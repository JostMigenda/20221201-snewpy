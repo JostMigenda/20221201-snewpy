{
 "cells": [
  {
   "cell_type": "markdown",
   "metadata": {},
   "source": [
    "# SNEWPY Demo\n",
    "\n",
    "## Getting Started\n",
    "\n",
    "### Resources\n",
    "\n",
    "* [snewpy repository on GitHub](https://github.com/SNEWS2/snewpy)\n",
    "* [snewpy documentation](https://snewpy.rtfd.io)\n",
    "* snewpy papers:\n",
    "  * Software review: [![DOI](https://joss.theoj.org/papers/10.21105/joss.03772/status.svg)](https://doi.org/10.21105/joss.03772)\n",
    "  * Underlying physics: [arXiv:2109.08188](https://arxiv.org/abs/2109.08188) or [DOI:10.3847/1538-4357/ac350f](https://dx.doi.org/10.3847/1538-4357/ac350f)\n",
    "\n",
    "### Installation\n",
    "<!-- Click the following button to open this notebook in Binder. Everything should just work.\n",
    "[![Binder](https://mybinder.org/badge_logo.svg)](https://mybinder.org/v2/gh/JostMigenda/PyHEP2022/main?labpath=snewpy_demo.ipynb)-->\n",
    "\n",
    "To run this notebook locally on your own machine, use `pip install snewpy==1.3` to install snewpy and `git clone https://github.com/SNOwGLoBES/snowglobes.git; cd snowglobes; git checkout v1.2` to download [SNOwGLoBES](https://github.com/SNOwGLoBES/snowglobes), which we will need in the second half of this notebook to estimate event rates in realistic detectors.\n",
    "\n",
    "### Initialising Example Models\n",
    "\n",
    "For this demo, we will use neutrino fluxes from `Nakazato_2013` and `Zha_2021`, but plenty of other supernova models are available as part of snewpy.\n",
    "Let’s see what models are available as part of each model family!"
   ]
  },
  {
   "cell_type": "code",
   "execution_count": null,
   "metadata": {},
   "outputs": [],
   "source": [
    "import snewpy\n",
    "snewpy.model_path = \"./SNEWPY_models/\"  # download directory for model files\n",
    "from snewpy.models.ccsn import Nakazato_2013, Zha_2021\n",
    "from astropy import units as u\n",
    "\n",
    "print(\"Zha models:\\n\", Zha_2021.param)\n",
    "print(\"Nakazato models:\\n\", Nakazato_2013.param)\n",
    "# Note: For the Nakazato model, not all parameter combinations are valid. Use `get_param_combinations()` to view and filter valid combinations:\n",
    "#highz_models = list(params for params in Nakazato_2013.get_param_combinations() if params['metallicity'] == 0.02)\n",
    "#print(\"Progenitors with metallicity z=0.02:\", *highz_models, sep='\\n')"
   ]
  },
  {
   "cell_type": "markdown",
   "metadata": {},
   "source": [
    "Let’s pick one progenitor from each model family. If this is the first time you’re using a progenitor, snewpy will automatically download the required data files for you.\n",
    "\n",
    "If you look at the data files, you’ll notice that these model families use very different input file formats, different time binning, etc. Thankfully, snewpy takes care of all of that and provides us with a unified interface."
   ]
  },
  {
   "cell_type": "code",
   "execution_count": null,
   "metadata": {},
   "outputs": [],
   "source": [
    "zha = Zha_2021(progenitor_mass=17*u.solMass)\n",
    "nakazato = Nakazato_2013(progenitor_mass=20*u.solMass, revival_time=200*u.ms, metallicity=0.004, eos='shen')\n",
    "\n",
    "nakazato"
   ]
  },
  {
   "cell_type": "markdown",
   "metadata": {},
   "source": [
    "## Plotting Different Supernova Models\n"
   ]
  },
  {
   "cell_type": "code",
   "execution_count": null,
   "metadata": {},
   "outputs": [],
   "source": [
    "%matplotlib inline\n",
    "import matplotlib as mpl\n",
    "import matplotlib.pyplot as plt\n",
    "\n",
    "from snewpy.neutrino import Flavor\n",
    "\n",
    "mpl.rc('font', size=16)\n",
    "\n",
    "# Plot luminosity of both models\n",
    "fig, ax = plt.subplots(1, figsize=(10, 6))\n",
    "\n",
    "for flavor in Flavor:\n",
    "    ax.plot(zha.time, zha.luminosity[flavor]/1e51,  # Report luminosity in units foe/s\n",
    "            label=flavor.to_tex() + ' (Zha)',\n",
    "            color='C0' if flavor.is_electron else 'C2',\n",
    "            ls='-' if flavor.is_neutrino else '--',\n",
    "            lw=2)\n",
    "\n",
    "# for flavor in Flavor:\n",
    "#     ax.plot(nakazato.time, nakazato.luminosity[flavor]/1e51,  # Report luminosity in units foe/s\n",
    "#             label=flavor.to_tex() + ' (Nakazato)',\n",
    "#             color='C1' if flavor.is_electron else 'C3',\n",
    "#             ls='-' if flavor.is_neutrino else '--',\n",
    "#             lw=1)\n",
    "\n",
    "ax.set(xlim=(-0.05, 0.8), xlabel=r'$t-t_{\\rm bounce}$ [s]', ylabel=r'luminosity [$10^{51}$ erg s$^{-1}$]')\n",
    "ax.grid()\n",
    "ax.legend(loc='upper right', ncol=2, fontsize=18);"
   ]
  },
  {
   "cell_type": "markdown",
   "metadata": {},
   "source": [
    "## Applying Neutrino Flavo(u)r Transformations\n",
    "\n",
    "Supernova simulations only provide us with the neutrino fluxes *emitted near the centre of the supernovae*. The fluxes *observed in a detector on Earth* can be very different.\n",
    "\n",
    "The module `snewpy.flavor_transformation` contains many different transformations that can happen along the way. Here, we will use the `AdiabaticMSW` transformation, which occurs as the neutrinos exit the star. (In brief: The electron density changes between the centre of the star and the surface, which modifies the effective mass of electron (anti-)neutrinos; whereas muon or tau (anti-)neutrinos are unaffected.)\n",
    "\n",
    "Other flavor transformations involving e.g. non-adiabatic MSW, decoherence, neutrino decay or sterile neutrinos are also available."
   ]
  },
  {
   "cell_type": "code",
   "execution_count": null,
   "metadata": {},
   "outputs": [],
   "source": [
    "from snewpy.flavor_transformation import AdiabaticMSW\n",
    "from snewpy.neutrino import Flavor, MassHierarchy\n",
    "\n",
    "from astropy import units as u\n",
    "import matplotlib as mpl\n",
    "import numpy as np\n",
    "\n",
    "def plot_total_flux(model, xform_nmo, xform_imo):\n",
    "    \"\"\"Plot initial and oscillated neutrino fluxes.\"\"\"\n",
    "    \n",
    "    energies = np.linspace(0,60,121) * u.MeV\n",
    "    \n",
    "    times = model.get_time()\n",
    "    burst_epoch = times <= 0.1*u.s\n",
    "    accretion_epoch = (times > 0.1*u.s) & (times <= 0.5*u.s)\n",
    "    cooling_epoch = (times > 0.5*u.s) & (times <= 10*u.s)\n",
    "    \n",
    "    # Compute the transformed and untransformed flux at each time.\n",
    "    ispec = model.get_flux(times, energies, 10*u.kpc)\n",
    "    tspec_nmo = model.get_flux(times, energies, 10*u.kpc, xform_nmo)\n",
    "    tspec_imo = model.get_flux(times, energies, 10*u.kpc, xform_imo)\n",
    "\n",
    "    ilum = {}\n",
    "    tlum_nmo = {}\n",
    "    tlum_imo = {}\n",
    "    # integrate over energy to get the flux\n",
    "    for flavor in Flavor:\n",
    "        ilum[flavor] = np.trapz(ispec[flavor].to('1/(cm**2 *erg*s)'), energies.to('erg')).value \n",
    "        tlum_nmo[flavor] = np.trapz(tspec_nmo[flavor].to('1/(cm**2 *erg*s)'), energies.to('erg')).value\n",
    "        tlum_imo[flavor] = np.trapz(tspec_imo[flavor].to('1/(cm**2 *erg*s)'), energies.to('erg')).value            \n",
    "\n",
    "    # make the figures \n",
    "    fig, axes = plt.subplots(3,3, figsize=(20,12), tight_layout=True)\n",
    "    \n",
    "    smax = [0.,0.,0.]\n",
    "    titles = ['Untransformed', 'Transformed (NMO)', 'Transformed (IMO)']\n",
    "    for i, spec in enumerate([ilum, tlum_nmo, tlum_imo]):\n",
    "        for j, phase in enumerate([burst_epoch, accretion_epoch, cooling_epoch]):\n",
    "            ax = axes[i,j]\n",
    "            timeunits = 'ms' if j==0 else 's'\n",
    "            \n",
    "            for flavor in Flavor:\n",
    "                if i == 0:\n",
    "                    smax[j] = np.maximum(smax[j], 1.1*np.max(spec[flavor][phase]))\n",
    "                \n",
    "                ax.plot(times[phase].to(timeunits),\n",
    "                        spec[flavor][phase], label=flavor.to_tex(), lw=3,\n",
    "                        color='C0' if flavor.is_electron else 'C1',\n",
    "                        ls='-' if flavor.is_neutrino else ':')\n",
    "            \n",
    "            ax.set(xlim=(times[phase][0].to(timeunits).value, times[phase][-1].to(timeunits).value),\n",
    "                   ylim=(0, smax[j]))\n",
    "            \n",
    "            if j==0:\n",
    "               ax.set(ylabel=r'flux [cm$^{-2}$ s$^{-1}$]')\n",
    "               ax.legend(loc='upper right', ncol=1, fontsize=18)\n",
    "            if j==1:\n",
    "                ax.set(title=titles[i])\n",
    "            if i < 2:\n",
    "                ax.set(xticklabels=[])\n",
    "            else:\n",
    "                ax.set(xlabel='time [{}]'.format(timeunits))\n",
    "            \n",
    "            ax.grid(ls=':')\n",
    "\n",
    "    return fig\n",
    "\n",
    "def plot_spectra(model, xform, t):\n",
    "    \"\"\"Plot initial and oscillated neutrino spectra at a fixed time.\"\"\"\n",
    "\n",
    "    energies = np.linspace(0,60,121) * u.MeV   \n",
    "\n",
    "    #get the spectra\n",
    "    ispec = model.get_initial_spectra(t, energies) \n",
    "    tspec = model.get_transformed_spectra(t, energies, xform)\n",
    "\n",
    "    fig, axes = plt.subplots(1, 2, figsize=(18,7), sharey=True, tight_layout=True)\n",
    "\n",
    "    for i, spec in enumerate([ispec, tspec]):\n",
    "        axes[0].plot(energies, spec[Flavor.NU_E].to('1/(MeV*s)'),\n",
    "                    label='Untransformed '+Flavor.NU_E.to_tex() if i==0 else 'Transformed '+Flavor.NU_E.to_tex(),\n",
    "                    color='C0', ls='-' if i==0 else ':', lw=2,  alpha=0.7)\n",
    "        axes[0].plot(energies, spec[Flavor.NU_X].to('1/(MeV*s)'), \n",
    "                    label='Untransformed '+Flavor.NU_X.to_tex() if i==0 else 'Transformed '+Flavor.NU_X.to_tex(),\n",
    "                    color='C1', ls='-' if i==0 else ':', lw=2,  alpha=0.7)\n",
    "\n",
    "        axes[0].set(xlabel=r'$E$ [{}]'.format(energies.unit), title='Neutrino spectra at $t = ${:.1f}'.format(t))\n",
    "        axes[0].grid()\n",
    "        axes[0].legend(loc='upper right', ncol=2, fontsize=16)\n",
    "    \n",
    "        axes[1].plot(energies, spec[Flavor.NU_E_BAR].to('1/(MeV*s)'), \n",
    "                    label='Untransformed '+Flavor.NU_E_BAR.to_tex() if i==0 else 'Transformed '+Flavor.NU_E_BAR.to_tex(),\n",
    "                    color='C0', ls='-' if i==0 else ':', lw=2,  alpha=0.7)\n",
    "        axes[1].plot(energies, spec[Flavor.NU_X_BAR].to('1/(MeV*s)'), \n",
    "                    label='Untransformed '+Flavor.NU_X_BAR.to_tex() if i==0 else 'Transformed '+Flavor.NU_X_BAR.to_tex(),\n",
    "                    color='C1', ls='-' if i==0 else ':', lw=2,  alpha=0.7)\n",
    "\n",
    "        axes[1].set(xlabel=r'$E$ [{}]'.format(energies.unit), title='Antineutrino spectra at $t = ${:.1f}'.format(t)) \n",
    "        axes[1].grid()\n",
    "        axes[1].legend(loc='upper right', ncol=2, fontsize=16)    \n",
    "    \n",
    "    ax = axes[0]\n",
    "    ax.set(ylabel=r'number luminosity [MeV$^{-1}$ s$^{-1}$]')\n",
    "    \n",
    "    return fig"
   ]
  },
  {
   "cell_type": "markdown",
   "metadata": {},
   "source": [
    "After defining two helper functions above, let’s use the first one to plot the neutrino flux over time! Focus on the “neutronization burst” in the left panel—this will show most clearly how some of the electron neutrinos are transformed into muon/tau neutrinos:\n",
    "\n",
    "(Note: Most supernova simulations don’t distinguish between muon & tau neutrinos, since their interactions are virtually identical; so we simply label them as NU_X here.)"
   ]
  },
  {
   "cell_type": "code",
   "execution_count": null,
   "metadata": {},
   "outputs": [],
   "source": [
    "xform_nmo = AdiabaticMSW()\n",
    "xform_imo = AdiabaticMSW(mh=MassHierarchy.INVERTED)\n",
    "\n",
    "fig = plot_total_flux(nakazato, xform_nmo, xform_imo)\n",
    "# fig.savefig('flux_adiabaticmsw.pdf')"
   ]
  },
  {
   "cell_type": "markdown",
   "metadata": {},
   "source": [
    "Next, we’ll use the second helper function to plot the neutrino spectra at a fixed point in time. Note how the total flux of electron (anti-) neutrinos decreases due to the flavour transformation, but their mean energy increases."
   ]
  },
  {
   "cell_type": "code",
   "execution_count": null,
   "metadata": {},
   "outputs": [],
   "source": [
    "fig_nmo = plot_spectra(nakazato, xform_nmo, 100*u.ms)\n",
    "# fig_imo = plot_spectra(nakazato, xform_imo, 100*u.ms)"
   ]
  },
  {
   "cell_type": "markdown",
   "metadata": {},
   "source": [
    "## Using SNEWPY as a SNOwGLoBES Front End\n",
    "\n",
    "Finally, we can use snewpy to calculate observed spectra or event rates for our models in various neutrino detectors.\n",
    "This requires SNOwGLoBES, a separate software package that contains cross sections for all relevant interaction channels and files describing energy smearing & efficiency for many detectors.\n",
    "\n",
    "### Observed Event Spectra for Different Interaction Channels\n",
    "\n",
    "Let’s plot the observed event spectra for different interaction channels.\n",
    "First, we pick a detector, supernova model and time range:"
   ]
  },
  {
   "cell_type": "code",
   "execution_count": null,
   "metadata": {},
   "outputs": [],
   "source": [
    "from snewpy import snowglobes\n",
    "\n",
    "SNOwGLoBES_path = \"./snowglobes/\"  # where SNOwGLoBES is located\n",
    "\n",
    "# set distance in kpc\n",
    "distance = 10\n",
    "\n",
    "# Set detector. You can use any detector configuration available in SNOwGLoBES, for example:\n",
    "detector = \"wc100kt30prct\"  # like Super- or Hyper-Kamiokande\n",
    "# detector = \"ar40kt\"  # like DUNE\n",
    "\n",
    "# set SNEWPY model type and filename\n",
    "modeltype = 'Zha_2021'\n",
    "model = 's17.dat'\n",
    "\n",
    "# set desired flavor transformation\n",
    "transformation = 'AdiabaticMSW_NMO' # 'NoTransformation'\n",
    "\n",
    "# Construct file system path of model file and name of output file\n",
    "# The output file will be stored in the same directory as the model file.\n",
    "modelfile = f\"{snewpy.model_path}/{modeltype}/{model}\"\n",
    "outfile = f\"{modeltype}_{model}_{transformation}\"\n",
    "\n",
    "# There are multiple ways to select a time range.\n",
    "# Option 1 - don't specify tstart and tend, then the whole model is integrated\n",
    "# tstart = None\n",
    "# tend = None\n",
    "\n",
    "# Option 2 - specify single tstart and tend, this makes 1 fluence file integrated over the window\n",
    "tstart = 0.0 * u.s\n",
    "tend = 0.3 * u.s"
   ]
  },
  {
   "cell_type": "markdown",
   "metadata": {},
   "source": [
    "Next, we perform the calculation in three steps:\n",
    "1. `generate_fluence` integrates the flux over the specified time window(s) to get the fluence as a function of energy\n",
    "2. `simulate` multiplies the fluence, cross section and detector smearing & efficiency to get the number of observed events as a function of energy\n",
    "3. `collate` collects the results for different channels into a single dictionary"
   ]
  },
  {
   "cell_type": "code",
   "execution_count": null,
   "metadata": {},
   "outputs": [],
   "source": [
    "print(\"Preparing fluences ...\")\n",
    "tarredfile = snowglobes.generate_fluence(modelfile, modeltype, transformation, distance, outfile, tstart, tend)\n",
    "\n",
    "print(\"Calculating events ...\")\n",
    "snowglobes.simulate(SNOwGLoBES_path, tarredfile, detector_input=detector)\n",
    "\n",
    "print(\"Collating results ...\")\n",
    "tables = snowglobes.collate(SNOwGLoBES_path, tarredfile, skip_plots=True)"
   ]
  },
  {
   "cell_type": "code",
   "execution_count": null,
   "metadata": {},
   "outputs": [],
   "source": [
    "tables[f\"Collated_{outfile}_{detector}_events_smeared_weighted.dat\"]\n",
    "# SNOwGLoBES also provides “unsmeared” events, without accounting for detector effects."
   ]
  },
  {
   "cell_type": "code",
   "execution_count": null,
   "metadata": {},
   "outputs": [],
   "source": [
    "key = f\"Collated_{outfile}_{detector}_events_smeared_weighted.dat\"\n",
    "channels = tables[key]['header'].split()\n",
    "energies = tables[key]['data'][0] * 1e3  # convert GeV to MeV\n",
    "events = {}\n",
    "for i, channel in enumerate(channels):\n",
    "    if i==0: continue  # skip \"Energy\" array\n",
    "    events[channel] = tables[key]['data'][i]\n",
    "events['total'] = sum(tables[key]['data'][1:])\n",
    "\n",
    "for channel in ['total'] + channels[1:]:\n",
    "    plt.plot(energies, events[channel], label=channel)\n",
    "\n",
    "plt.xlabel(\"Energy [MeV]\")\n",
    "plt.ylabel(\"Events per energy bin\")\n",
    "plt.yscale(\"log\")\n",
    "plt.xlim(0, 70)\n",
    "plt.ylim(bottom=0.3)\n",
    "plt.legend(loc=\"upper right\")\n",
    "plt.savefig(f'plot_{outfile}_{detector}.pdf')\n",
    "\n",
    "print(f\"Total Events: {sum(events['total']):.3f}\")\n",
    "print(f\"Mean Detected Energy: {sum(energies * events['total']) / sum(events['total']):.3f} MeV\")"
   ]
  },
  {
   "cell_type": "markdown",
   "metadata": {},
   "source": [
    "### Observed Event Rate\n",
    "\n",
    "Let’s plot the observable event rate in a realistic detector. Specifically, let’s try to reproduce the event rate shown in Figure 5 of [Zha et al. (2021)](https://arxiv.org/pdf/2103.02268.pdf).\n",
    "\n",
    "First, we select the same detector, flavor transformation and time range:"
   ]
  },
  {
   "cell_type": "code",
   "execution_count": null,
   "metadata": {},
   "outputs": [],
   "source": [
    "from snewpy import snowglobes\n",
    "\n",
    "SNOwGLoBES_path = \"./snowglobes/\"  # where SNOwGLoBES is located\n",
    "\n",
    "# set distance in kpc\n",
    "distance = 10\n",
    "\n",
    "# Set detector. You can use any detector configuration available in SNOwGLoBES, for example:\n",
    "detector = \"icecube\"\n",
    "\n",
    "# set SNEWPY model type and filename\n",
    "modeltype = 'Zha_2021'\n",
    "model = 's17.dat'\n",
    "\n",
    "# set desired flavor transformation\n",
    "transformation = 'AdiabaticMSW_NMO'\n",
    "\n",
    "# Construct file system path of model file and name of output file\n",
    "# The output file will be stored in the same directory as the model file.\n",
    "modelfile = f\"{snewpy.model_path}/{modeltype}/{model}\"\n",
    "outfile = f\"{modeltype}_{model}_{transformation}\"\n",
    "\n",
    "# There are multiple ways to select a time range. Here, we will use\n",
    "# Option 3 = specify sequence of time intervals, one fluence file is made for each interval\n",
    "window_tstart = 0.742\n",
    "window_tend = 0.762\n",
    "n_bins = 60  # use 120 for better time resolution (but we don’t want to wait as long during the live demo)\n",
    "tstart = np.linspace(window_tstart, window_tend, n_bins, endpoint=False) * u.s\n",
    "tend = tstart + (window_tend - window_tstart) / n_bins * u.s"
   ]
  },
  {
   "cell_type": "markdown",
   "metadata": {},
   "source": [
    "Next, we perform the calculation in three steps:\n",
    "1. `generate_fluence` integrates the flux over the specified time window(s) to get the fluence as a function of energy\n",
    "2. `simulate` multiplies the fluence, cross section and detector smearing & efficiency to get the number of observed events as a function of energy\n",
    "3. `collate` collects the results for different channels into a single dictionary"
   ]
  },
  {
   "cell_type": "code",
   "execution_count": null,
   "metadata": {},
   "outputs": [],
   "source": [
    "print(\"Preparing fluences ...\")\n",
    "tarredfile = snowglobes.generate_fluence(modelfile, modeltype, transformation, distance, outfile, tstart, tend)\n",
    "\n",
    "print(\"Calculating events ...\")\n",
    "snowglobes.simulate(SNOwGLoBES_path, tarredfile, detector_input=detector)\n",
    "\n",
    "print(\"Collating results ...\")\n",
    "tables = snowglobes.collate(SNOwGLoBES_path, tarredfile, skip_plots=True)"
   ]
  },
  {
   "cell_type": "code",
   "execution_count": null,
   "metadata": {},
   "outputs": [],
   "source": [
    "nevents = np.zeros(n_bins)\n",
    "for i in range(n_bins):\n",
    "    key = f\"Collated_{outfile}_{i}_{detector}_events_smeared_weighted.dat\"\n",
    "    \n",
    "    # Sum events across all interaction channels and energy bins\n",
    "    for j in range(1,len(tables[key]['header'].split())):\n",
    "        nevents[i] += sum(tables[key]['data'][j])\n",
    "\n",
    "# nevents is per bin, convert to per ms\n",
    "factor = n_bins / (window_tend - window_tstart) / 1000\n",
    "\n",
    "plt.plot(tstart - 0.742*u.s, nevents * factor, color=\"C2\")\n",
    "plt.xlabel(\"$t-t_{2c}$ [s]\")\n",
    "plt.ylabel(\"Counts [ms$^{-1}$]\")\n",
    "plt.ylim(0, 2001);\n",
    "# compare to Figure 5 of Zha et al. (2021)"
   ]
  },
  {
   "cell_type": "markdown",
   "metadata": {},
   "source": [
    "## Summary and Q&A\n",
    "\n",
    "* snewpy provides …\n",
    "    * … a unified way to access 100s of SN models\n",
    "    * … many different flavor transformations between neutrino production and detection\n",
    "    * … an easy way to estimate event rates in neutrino detectors\n",
    "* SN models and flavor transformations can be used by other software\n",
    "* New SN models or flavor transformations are welcome!\n",
    "\n",
    "* **Interested? Have questions?**\n",
    "    * E-mail me at jost.migenda@kcl.ac.uk\n",
    "    * Or [open an issue on GitHub](https://github.com/SNEWS2/snewpy/issues)\n",
    "\n"
   ]
  }
 ],
 "metadata": {
  "kernelspec": {
   "display_name": "Python 3.9.5 ('snews')",
   "language": "python",
   "name": "python3"
  },
  "language_info": {
   "codemirror_mode": {
    "name": "ipython",
    "version": 3
   },
   "file_extension": ".py",
   "mimetype": "text/x-python",
   "name": "python",
   "nbconvert_exporter": "python",
   "pygments_lexer": "ipython3",
   "version": "3.9.5"
  },
  "orig_nbformat": 4,
  "vscode": {
   "interpreter": {
    "hash": "e2528887d751495e023d57d695389d9a04f4c4d2e5866aaf6dc03a1ed45c573e"
   }
  }
 },
 "nbformat": 4,
 "nbformat_minor": 2
}
